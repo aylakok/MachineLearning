{
 "cells": [
  {
   "cell_type": "markdown",
   "metadata": {},
   "source": [
    "In this assignment, you are going to apply what you learned about machine learning to a dataset of your choice on Kaggle (Links to an external site.). Kaggle is an online platform where data scientists can find datasets and enter competitions to predict certain outcomes. In these competitions, Kaggle users can download data and create their model.\n",
    "\n",
    "Objective\n",
    "\n",
    "Predict the outcomes in a data set using either Random Forest, Decision Tree or k-NN. Write a Jupyter Notebook report documenting your investigation.\n",
    "\n",
    "Dataset\n",
    "\n",
    "You can choose from the following data sets:\n",
    "\n",
    "- Speed dating experiment (Links to an external site.): predict the variable dec_o (decision by partner)\n",
    "- Gender recognition of voice (Links to an external site.): predict the variable label (male or female)\n",
    "- FIFA 18 (Links to an external site.): predict the first item from the variable Preferred Positions (remember the method .split() for strings?)\n",
    "- Secondary school students (Links to an external site.): predict the variable romantic (has a romantic interest). Use the file student-por.csv, not the other one.\n",
    "- Employee attrition (Links to an external site.): predict the variable attrition.\n",
    "Tips\n",
    "\n",
    "- Cut down the data set down to size. Though not strictly necessary, this is strongly recommended to make it easier. Select 7 variables with strong predictive value, based on your knowledge of the topic (domain knowledge) and/or correlation. Remember to subset the data with df[[‘column 1’, ‘column2’, ‘column3’]]. Don't spend too much time on this step. It's supposed to make the assignment easier, not harder.\n",
    "- If you find the dataset is too big and calculations take too long, take a random sample with the Pandas method .sample() and run the analysis with the entire data at the end.\n",
    "\n",
    "Included in your Jupyter Notebook\n",
    "\n",
    "Please add sufficient comments: not just explaining what you are doing, but why you are doing it.\n",
    "\n",
    "- Which dataset and variables you selected and why\n",
    "- Your pre-processing steps (e.g., transformations of variables)\n",
    "- The head()of the resulting data frame\n",
    "\n",
    "Classification\n",
    "\n",
    "- Choose one of the following: k-nearest neighbor, decision tree or random forest\n",
    "- Explain briefly in your own words how the algorithm works\n",
    "- Split the data set into a training and test set\n",
    "- Train the model\n",
    "- Evaluate the predictive performance of your model on the test set\n",
    "\n",
    "Please provide a link to your Notebook on GitHub. Make sure the GitHub folder includes the data file so the Notebook runs without problems.\n",
    "\n",
    "Notes\n",
    "\n",
    "- Only comments on the code should be in coding formatting. Answers to questions in the assignment (e.g., \"Explain how linear regression works in your own words\" or \"evaluate the performance of your model\") are in text (Markdown) cells.\n",
    "- Use Markdown formula notation for mathematical formulas\n",
    "- The Jupyter Notebook should run in its entirety. An assignment that doesn't run will not be scored \"complete\". If you can't get a certain section to run, please comment out the code and explain what you would want it to do."
   ]
  },
  {
   "cell_type": "code",
   "execution_count": 6,
   "metadata": {},
   "outputs": [],
   "source": [
    "# Importing  libraries\n",
    "import seaborn as sns\n",
    "import sklearn as sk \n",
    "import pandas as pd\n",
    "import matplotlib.pyplot as plt "
   ]
  },
  {
   "cell_type": "code",
   "execution_count": 7,
   "metadata": {},
   "outputs": [
    {
     "data": {
      "text/html": [
       "<div>\n",
       "<style scoped>\n",
       "    .dataframe tbody tr th:only-of-type {\n",
       "        vertical-align: middle;\n",
       "    }\n",
       "\n",
       "    .dataframe tbody tr th {\n",
       "        vertical-align: top;\n",
       "    }\n",
       "\n",
       "    .dataframe thead th {\n",
       "        text-align: right;\n",
       "    }\n",
       "</style>\n",
       "<table border=\"1\" class=\"dataframe\">\n",
       "  <thead>\n",
       "    <tr style=\"text-align: right;\">\n",
       "      <th></th>\n",
       "      <th>iid</th>\n",
       "      <th>gender</th>\n",
       "      <th>idg</th>\n",
       "      <th>condtn</th>\n",
       "      <th>wave</th>\n",
       "      <th>round</th>\n",
       "      <th>position</th>\n",
       "      <th>order</th>\n",
       "      <th>partner</th>\n",
       "      <th>match</th>\n",
       "      <th>samerace</th>\n",
       "      <th>dec_o</th>\n",
       "      <th>dec</th>\n",
       "    </tr>\n",
       "  </thead>\n",
       "  <tbody>\n",
       "    <tr>\n",
       "      <th>0</th>\n",
       "      <td>1</td>\n",
       "      <td>0</td>\n",
       "      <td>1</td>\n",
       "      <td>1</td>\n",
       "      <td>1</td>\n",
       "      <td>10</td>\n",
       "      <td>7</td>\n",
       "      <td>4</td>\n",
       "      <td>1</td>\n",
       "      <td>0</td>\n",
       "      <td>0</td>\n",
       "      <td>0</td>\n",
       "      <td>1</td>\n",
       "    </tr>\n",
       "    <tr>\n",
       "      <th>1</th>\n",
       "      <td>1</td>\n",
       "      <td>0</td>\n",
       "      <td>1</td>\n",
       "      <td>1</td>\n",
       "      <td>1</td>\n",
       "      <td>10</td>\n",
       "      <td>7</td>\n",
       "      <td>3</td>\n",
       "      <td>2</td>\n",
       "      <td>0</td>\n",
       "      <td>0</td>\n",
       "      <td>0</td>\n",
       "      <td>1</td>\n",
       "    </tr>\n",
       "    <tr>\n",
       "      <th>2</th>\n",
       "      <td>1</td>\n",
       "      <td>0</td>\n",
       "      <td>1</td>\n",
       "      <td>1</td>\n",
       "      <td>1</td>\n",
       "      <td>10</td>\n",
       "      <td>7</td>\n",
       "      <td>10</td>\n",
       "      <td>3</td>\n",
       "      <td>1</td>\n",
       "      <td>1</td>\n",
       "      <td>1</td>\n",
       "      <td>1</td>\n",
       "    </tr>\n",
       "    <tr>\n",
       "      <th>3</th>\n",
       "      <td>1</td>\n",
       "      <td>0</td>\n",
       "      <td>1</td>\n",
       "      <td>1</td>\n",
       "      <td>1</td>\n",
       "      <td>10</td>\n",
       "      <td>7</td>\n",
       "      <td>5</td>\n",
       "      <td>4</td>\n",
       "      <td>1</td>\n",
       "      <td>0</td>\n",
       "      <td>1</td>\n",
       "      <td>1</td>\n",
       "    </tr>\n",
       "    <tr>\n",
       "      <th>4</th>\n",
       "      <td>1</td>\n",
       "      <td>0</td>\n",
       "      <td>1</td>\n",
       "      <td>1</td>\n",
       "      <td>1</td>\n",
       "      <td>10</td>\n",
       "      <td>7</td>\n",
       "      <td>7</td>\n",
       "      <td>5</td>\n",
       "      <td>1</td>\n",
       "      <td>0</td>\n",
       "      <td>1</td>\n",
       "      <td>1</td>\n",
       "    </tr>\n",
       "  </tbody>\n",
       "</table>\n",
       "</div>"
      ],
      "text/plain": [
       "   iid  gender  idg  condtn  wave  round  position  order  partner  match  \\\n",
       "0    1       0    1       1     1     10         7      4        1      0   \n",
       "1    1       0    1       1     1     10         7      3        2      0   \n",
       "2    1       0    1       1     1     10         7     10        3      1   \n",
       "3    1       0    1       1     1     10         7      5        4      1   \n",
       "4    1       0    1       1     1     10         7      7        5      1   \n",
       "\n",
       "   samerace  dec_o  dec  \n",
       "0         0      0    1  \n",
       "1         0      0    1  \n",
       "2         1      1    1  \n",
       "3         0      1    1  \n",
       "4         0      1    1  "
      ]
     },
     "execution_count": 7,
     "metadata": {},
     "output_type": "execute_result"
    }
   ],
   "source": [
    "# Importing data set\n",
    "DataFrame = pd.read_csv('Speed Dating Data.csv', encoding= 'ISO-8859-1')\n",
    "DataFrame = DataFrame[DataFrame['dec_o'].notna()] # deleting all rows containing NaN values in dec_o\n",
    "DataFrame.reset_index()\n",
    "DataFrame.head()  # 8378 rows left\n",
    "#DataFrame.info(verbose = True) # see what type of observation are left\n",
    "DataFrame=DataFrame.dropna(axis='columns') # dropping all columns (variables) containing NaN values\n",
    "DataFrame.head() "
   ]
  },
  {
   "cell_type": "markdown",
   "metadata": {},
   "source": [
    "# Random Forrest"
   ]
  },
  {
   "cell_type": "markdown",
   "metadata": {},
   "source": [
    "Random forrest is a algorithm that makes use of multiple decision trees in order to get to a classification or regression model."
   ]
  },
  {
   "cell_type": "code",
   "execution_count": 8,
   "metadata": {},
   "outputs": [],
   "source": [
    "training_df=DataFrame[0:5500] # splitting the set into a train and test set\n",
    "testing_df=DataFrame[5501:8377]\n",
    "\n",
    "y_training=training_df[['dec_o']] # splitting the set into predictors and predicted\n",
    "x_training=training_df.drop(columns=['dec_o'])\n",
    "\n",
    "y_testing=testing_df[['dec_o']]\n",
    "x_testing=testing_df.drop(columns=['dec_o'])"
   ]
  },
  {
   "cell_type": "code",
   "execution_count": 9,
   "metadata": {},
   "outputs": [
    {
     "name": "stdout",
     "output_type": "stream",
     "text": [
      "Validation Accuracy: 0.6974965229485396\n"
     ]
    }
   ],
   "source": [
    "from sklearn.ensemble import RandomForestClassifier # importing the model we are using\n",
    "from sklearn import metrics\n",
    "\n",
    "rf = RandomForestClassifier()\n",
    "rf_model = rf.fit(x_training, y_training['dec_o']); # train the model on training data\n",
    "\n",
    "predict_test_y = rf_model.predict(x_testing) # test the model\n",
    "print('Validation Accuracy:', metrics.accuracy_score(y_testing, predict_test_y)) # determining the accuracy of the model"
   ]
  },
  {
   "cell_type": "markdown",
   "metadata": {},
   "source": [
    "So in 70% the model is right in its predictions, which is a reasonable value. "
   ]
  },
  {
   "cell_type": "code",
   "execution_count": null,
   "metadata": {},
   "outputs": [],
   "source": []
  }
 ],
 "metadata": {
  "kernelspec": {
   "display_name": "Python 3",
   "language": "python",
   "name": "python3"
  },
  "language_info": {
   "codemirror_mode": {
    "name": "ipython",
    "version": 3
   },
   "file_extension": ".py",
   "mimetype": "text/x-python",
   "name": "python",
   "nbconvert_exporter": "python",
   "pygments_lexer": "ipython3",
   "version": "3.8.2"
  }
 },
 "nbformat": 4,
 "nbformat_minor": 4
}
