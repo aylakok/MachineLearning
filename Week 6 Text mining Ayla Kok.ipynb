{
 "cells": [
  {
   "cell_type": "markdown",
   "metadata": {},
   "source": [
    "In this assignment, you are going to use text mining to predict the rating of a dress from online reviews.\n",
    "\n",
    "Objective\n",
    "\n",
    "Predict whether dresses reviews are positive (>3 stars) or neutral/negative (<4 stars). Write a Jupyter Notebook report documenting your investigation.\n",
    "\n",
    "Dataset\n",
    "\n",
    "We are using the Women’s E-Commerce Clothing Reviews data set (Links to an external site.). Note that the full data set is included, but we are running a model on the reviews of dresses only.\n",
    "\n",
    "- The data setPreview the document\n",
    "- The data set on Kaggle, for context (Links to an external site.)\n",
    "Included in your Jupyter Notebook\n",
    "\n",
    "- Explain briefly in your own words how the bag-of-words model and Naïve Bayes work, and how they work together.\n",
    "- Pre-processing steps (don’t forget to filter out all non-dress reviews).\n",
    "- The head() of the resulting dataframe.\n",
    "- Text pre-processing steps resulting in a document-feature matrix\n",
    "- Split the file into a training and a test set.\n",
    "- Train a Naïve Bayes classifier predicting whether a review is positive (>3 stars) or neutral/negative (<4 stars).\n",
    "- Evaluate the performance of your model on the test set.\n",
    "- Check out 3 cases where your model is off target. Inspect the associated texts. Do you understand why your model trips up? Explain.\n",
    "\n",
    "Please provide a link to your Notebook on GitHub . Make sure the GitHub folder includes the data file so the Notebook runs without problems.\n",
    "\n",
    "Note\n",
    "\n",
    "- Only comments on the code should be in coding formatting. Answers to questions in the assignment (e.g., \"Explain how linear regression works in your own words\" or \"evaluate the performance of your model\") are in text (Markdown) cells.\n",
    "- Use Markdown formula notation for mathematical formulas http://csrgxtu.github.io/2015/03/20/Writing-Mathematic-Fomulars-in-Markdown/\n",
    "- The Jupyter Notebook should run in its entirety. An assignment that doesn't run will not be scored \"complete\". If you can't get a certain section to run, please comment out the code and explain what you would want it to do."
   ]
  },
  {
   "cell_type": "markdown",
   "metadata": {},
   "source": [
    "Bag-of-word methods aims to get the most simple representation of a text document. You strip down a document until only the important words are left. Naive Bayes is a type of model that relies on these bag-of-word input in order to classify. The concept that is exploited in these models is probability. "
   ]
  },
  {
   "cell_type": "code",
   "execution_count": 1,
   "metadata": {},
   "outputs": [],
   "source": [
    "# Importing  libraries\n",
    "import seaborn as sns\n",
    "import sklearn as sk \n",
    "import pandas as pd\n",
    "import matplotlib.pyplot as plt \n",
    "import re\n",
    "from bs4 import BeautifulSoup \n",
    "from sklearn.naive_bayes import MultinomialNB"
   ]
  },
  {
   "cell_type": "code",
   "execution_count": 2,
   "metadata": {},
   "outputs": [
    {
     "name": "stdout",
     "output_type": "stream",
     "text": [
      "6145\n"
     ]
    }
   ],
   "source": [
    "# Preprocessing\n",
    "DataFrame = pd.read_csv('Assignment text mining - data clothing reviews.csv') # importing the data set\n",
    "DataFrame=DataFrame[DataFrame['Class Name'] == 'Dresses'] # filtering out the dresses (6319 reviews of dresses)\n",
    "DataFrame=DataFrame.reset_index() # resetting the index\n",
    "\n",
    "DataFrame = DataFrame[['Review Text', 'Rating']] # extracting rating and review text\n",
    "DataFrame.loc[DataFrame['Rating'] < 4, 'Positive'] = 0 # creating variable 'positive'\n",
    "DataFrame.loc[DataFrame['Rating'] > 3, 'Positive'] = 1\n",
    "DataFrame=DataFrame.drop(columns = ['Rating']) # remove the old rating column \n",
    "DataFrame=DataFrame.dropna() # drop rows that don't have an review\n",
    "DataFrame=DataFrame.reset_index() # reset the index\n",
    "DataFrame.head()\n",
    "\n",
    "print(len(DataFrame)) # 6145 reviews of dresses left"
   ]
  },
  {
   "cell_type": "code",
   "execution_count": 6,
   "metadata": {},
   "outputs": [
    {
     "name": "stderr",
     "output_type": "stream",
     "text": [
      "[nltk_data] Downloading package stopwords to\n",
      "[nltk_data]     /Users/aylakok/nltk_data...\n",
      "[nltk_data]   Package stopwords is already up-to-date!\n",
      "<ipython-input-6-040e9d89dc95>:11: SettingWithCopyWarning: \n",
      "A value is trying to be set on a copy of a slice from a DataFrame\n",
      "\n",
      "See the caveats in the documentation: https://pandas.pydata.org/pandas-docs/stable/user_guide/indexing.html#returning-a-view-versus-a-copy\n",
      "  DataFrame['Review Text'][i] = \" \".join(meaningful_words) # store the bag of words in the data frame as strings\n"
     ]
    },
    {
     "name": "stdout",
     "output_type": "stream",
     "text": [
      "      index                                        Review Text  Positive\n",
      "0         0  love dress sooo pretty happened find store gla...       1.0\n",
      "1         1  high hopes dress really wanted work initially ...       0.0\n",
      "2         2  love tracy reese dresses one petite feet tall ...       0.0\n",
      "3         3  love dress usually get xs runs little snug bus...       1.0\n",
      "4         4  lbs ordered petite make sure length long typic...       1.0\n",
      "...     ...                                                ...       ...\n",
      "6140   6314  surprised positive reviews product terrible cu...       0.0\n",
      "6141   6315  happy snag dress great price easy slip flatter...       1.0\n",
      "6142   6316  fit well top see never would worked glad able ...       0.0\n",
      "6143   6317  bought dress wedding summer cute unfortunately...       0.0\n",
      "6144   6318  dress lovely platinum feminine fits perfectly ...       1.0\n",
      "\n",
      "[6145 rows x 3 columns]\n"
     ]
    }
   ],
   "source": [
    "import nltk \n",
    "nltk.download('stopwords')\n",
    "from nltk.corpus import stopwords \n",
    "\n",
    "for i in range(0,6145):\n",
    "    review_text = BeautifulSoup(DataFrame['Review Text'][i],\"html.parser\").get_text() #remove html\n",
    "    letters = re.sub(\"[^a-zA-Z]\",\" \",review_text) # making sure there are letters only \n",
    "    words = letters.lower().split() # remove capital letters\n",
    "    stop = set(stopwords.words(\"english\")) # creating an array of important words\n",
    "    meaningful_words = [w for w in words if w not in stop] # only storing the important words\n",
    "    DataFrame['Review Text'][i] = \" \".join(meaningful_words) # store the bag of words in the data frame as strings\n",
    "print(DataFrame)"
   ]
  },
  {
   "cell_type": "code",
   "execution_count": 7,
   "metadata": {},
   "outputs": [],
   "source": [
    "from sklearn.feature_extraction.text import CountVectorizer\n",
    "vectorizer = CountVectorizer(analyzer=\"word\",preprocessor=None,stop_words=\"english\",max_features=5000) # tokenize a collection of text\n",
    "\n",
    "train_data_features = vectorizer.fit_transform(DataFrame['Review Text']) # create corret format\n",
    "train_data_features = train_data_features.toarray()\n",
    "\n",
    "x_training=train_data_features[0:4200] # seperating x and y and train and test\n",
    "x_testing=train_data_features[4201:6145]\n",
    "\n",
    "y_training=DataFrame['Positive'][0:4200]\n",
    "y_testing=DataFrame['Positive'][4201:6145]\n",
    "y_testing=y_testing.reset_index()"
   ]
  },
  {
   "cell_type": "code",
   "execution_count": 8,
   "metadata": {},
   "outputs": [
    {
     "name": "stdout",
     "output_type": "stream",
     "text": [
      "0.8410493827160493\n"
     ]
    }
   ],
   "source": [
    "Bayes = MultinomialNB() # importing the model \n",
    "model = Bayes.fit(x_training,y_training) # training te model\n",
    "y_predicted = model.predict(x_testing) # testing the model\n",
    "\n",
    "\n",
    "from sklearn.metrics import confusion_matrix\n",
    "cm = confusion_matrix(y_predicted,y_testing['Positive']) # evaluating the model\n",
    "accuracy = cm.trace()/cm.sum()\n",
    "print(accuracy)"
   ]
  },
  {
   "cell_type": "markdown",
   "metadata": {},
   "source": [
    "The accuracy of the model is 0.84, which is good."
   ]
  },
  {
   "cell_type": "markdown",
   "metadata": {},
   "source": [
    "Reviews 13,1941 and 1942 are predicted wrong."
   ]
  },
  {
   "cell_type": "code",
   "execution_count": 165,
   "metadata": {},
   "outputs": [],
   "source": [
    "#DataFrame['Review Text'][4213]\n",
    "#DataFrame['Review Text'][6141]\n",
    "#DataFrame['Review Text'][6142]"
   ]
  },
  {
   "cell_type": "markdown",
   "metadata": {},
   "source": [
    "13 is positive and negative so this makes it hard to predict. The same holds for the other two reviews, they say lots of good things but one really negative thing. "
   ]
  }
 ],
 "metadata": {
  "kernelspec": {
   "display_name": "Python 3",
   "language": "python",
   "name": "python3"
  },
  "language_info": {
   "codemirror_mode": {
    "name": "ipython",
    "version": 3
   },
   "file_extension": ".py",
   "mimetype": "text/x-python",
   "name": "python",
   "nbconvert_exporter": "python",
   "pygments_lexer": "ipython3",
   "version": "3.8.2"
  }
 },
 "nbformat": 4,
 "nbformat_minor": 4
}
